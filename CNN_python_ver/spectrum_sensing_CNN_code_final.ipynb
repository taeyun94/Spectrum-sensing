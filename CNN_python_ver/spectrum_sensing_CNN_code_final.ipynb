{
 "cells": [
  {
   "cell_type": "markdown",
   "metadata": {},
   "source": [
    "## 네트워크 훈련 및 저장"
   ]
  },
  {
   "cell_type": "code",
   "execution_count": 1,
   "metadata": {},
   "outputs": [],
   "source": [
    "import tensorflow as tf\n",
    "import numpy as np\n",
    "import hdf5storage\n",
    "\n",
    "config = tf.ConfigProto()\n",
    "config.gpu_options.allow_growth = True"
   ]
  },
  {
   "cell_type": "code",
   "execution_count": 2,
   "metadata": {},
   "outputs": [
    {
     "name": "stdout",
     "output_type": "stream",
     "text": [
      "(3100, 64, 32, 1)\n",
      "(3100, 2)\n"
     ]
    }
   ],
   "source": [
    "training_set = hdf5storage.loadmat('./CNN_training.mat')\n",
    "XTrain, YTrain = training_set['XTrain'], training_set['YTrain']\n",
    "XTrain = np.transpose(XTrain, [3,0,1,2])\n",
    "print(XTrain.shape)\n",
    "print(YTrain.shape)"
   ]
  },
  {
   "cell_type": "markdown",
   "metadata": {},
   "source": [
    "### parameter 설정"
   ]
  },
  {
   "cell_type": "code",
   "execution_count": 3,
   "metadata": {},
   "outputs": [],
   "source": [
    "learning_rate = 0.01\n",
    "total_epoch = 15\n",
    "batch_size = 100\n",
    "total_batch = int(len(XTrain) / batch_size)"
   ]
  },
  {
   "cell_type": "code",
   "execution_count": 4,
   "metadata": {},
   "outputs": [],
   "source": [
    "X = tf.placeholder(tf.float32, [None,64, 32,1], name='input') #64x32 크기의 회색조(1)\n",
    "Y = tf.placeholder(tf.float32, [None, 2], name='label') # 0 또는 1을 담을 크기1 (Busy / Idle)\n",
    "keep_prob = tf.placeholder(tf.float32, name='drop')\n",
    "\n",
    "W1 = tf.Variable(tf.random_normal([3,3, 1, 16], stddev=0.01), name='weight1') \n",
    "L1 = tf.nn.conv2d(X, W1, strides=[1, 1, 1, 1], padding = 'SAME')\n",
    "L1 = tf.nn.relu(L1)\n",
    "L1 = tf.nn.max_pool(L1, ksize = [1, 2, 2, 1], strides=[1, 2, 2, 1],padding = 'SAME') \n",
    "\n",
    "W2 = tf.Variable(tf.random_normal([3, 3, 16, 32], stddev=0.01), name='weight2')  \n",
    "L2 = tf.nn.conv2d(L1, W2, strides=[1, 1, 1, 1], padding='SAME')\n",
    "L2 = tf.nn.relu(L2)\n",
    "L2 = tf.nn.max_pool(L2, ksize = [1, 2, 2, 1], strides = [1, 2, 2, 1],padding='SAME')\n",
    "\n",
    "W3 = tf.Variable(tf.random_normal([3, 3, 32, 64], stddev=0.01), name='weight3')\n",
    "L3 = tf.nn.conv2d(L2, W3, strides=[1, 1, 1, 1], padding='SAME')\n",
    "L3 = tf.nn.relu(L3)\n",
    "L3 = tf.nn.max_pool(L3, ksize = [1, 2, 2, 1], strides = [1, 2, 2, 1],padding='SAME')\n",
    "\n",
    "W4 = tf.Variable(tf.random_normal([8 * 4 * 64, 256], stddev=0.01), name='weight4')\n",
    "L4 = tf.reshape(L3, [-1, 8 * 4 * 64])\n",
    "L4 = tf.matmul(L4, W4)\n",
    "L4 = tf.nn.relu(L4)\n",
    "L4 = tf.nn.dropout(L4, keep_prob)\n",
    "\n",
    "W5 = tf.Variable(tf.random_normal([256, 2], stddev=0.01), name='weight5')\n",
    "model = tf.matmul(L4, W5)\n",
    "model = tf.identity(model, name='model')\n",
    "\n",
    "cost = tf.reduce_mean(tf.nn.softmax_cross_entropy_with_logits_v2(logits = model, labels = Y))\n",
    "#optimizer = tf.train.GradientDescentOptimizer(learning_rate).minimize(cost)\n",
    "optimizer = tf.train.AdamOptimizer(learning_rate).minimize(cost)"
   ]
  },
  {
   "cell_type": "code",
   "execution_count": 5,
   "metadata": {},
   "outputs": [
    {
     "name": "stdout",
     "output_type": "stream",
     "text": [
      "Epoch :    1 Avg. cost =  0.499\n",
      "Epoch :    2 Avg. cost =  0.435\n",
      "Epoch :    3 Avg. cost =  0.418\n",
      "Epoch :    4 Avg. cost =  0.405\n",
      "Epoch :    5 Avg. cost =  0.359\n",
      "Epoch :    6 Avg. cost =  0.299\n",
      "Epoch :    7 Avg. cost =  0.277\n",
      "Epoch :    8 Avg. cost =  0.244\n",
      "Epoch :    9 Avg. cost =  0.227\n",
      "Epoch :   10 Avg. cost =  0.207\n",
      "Epoch :   11 Avg. cost =  0.202\n",
      "Epoch :   12 Avg. cost =  0.203\n",
      "Epoch :   13 Avg. cost =  0.184\n",
      "Epoch :   14 Avg. cost =  0.172\n",
      "Epoch :   15 Avg. cost =  0.205\n",
      "최적화 완료!\n"
     ]
    },
    {
     "data": {
      "text/plain": [
       "'./network/Net_3100_epoch15/net'"
      ]
     },
     "execution_count": 5,
     "metadata": {},
     "output_type": "execute_result"
    }
   ],
   "source": [
    "saver = tf.train.Saver() # saver\n",
    "\n",
    "sess = tf.Session(config=config)\n",
    "sess.run(tf.global_variables_initializer())\n",
    "\n",
    "for epoch in range(total_epoch):\n",
    "    total_cost = 0\n",
    "    \n",
    "    for i in range(total_batch):\n",
    "        batch_xs = XTrain[batch_size*i:batch_size*(i+1),:,:,:]\n",
    "        batch_ys = YTrain[batch_size*i:batch_size*(i+1),:]\n",
    "\n",
    "        _, cost_val = sess.run([optimizer, cost], \n",
    "                               feed_dict = {X: batch_xs, Y: batch_ys, \n",
    "                                            keep_prob:0.8})\n",
    "        total_cost += cost_val\n",
    "    print('Epoch :', '%4d' %(epoch + 1),\n",
    "          'Avg. cost = ', '{:.3f}'.format(total_cost / total_batch))\n",
    "    \n",
    "print(\"최적화 완료!\")\n",
    "saver.save(sess, './network/Net_3100_epoch15/net') # netwrok save"
   ]
  },
  {
   "cell_type": "markdown",
   "metadata": {},
   "source": [
    "## 테스트 & 모델 불러오기"
   ]
  },
  {
   "cell_type": "code",
   "execution_count": 1,
   "metadata": {},
   "outputs": [],
   "source": [
    "import tensorflow as tf\n",
    "import numpy as np\n",
    "import hdf5storage\n",
    "import matplotlib.pyplot as plt\n",
    "\n",
    "config = tf.ConfigProto()\n",
    "config.gpu_options.allow_growth = True\n",
    "\n",
    "#tf.reset_default_graph()"
   ]
  },
  {
   "cell_type": "code",
   "execution_count": 2,
   "metadata": {},
   "outputs": [
    {
     "name": "stdout",
     "output_type": "stream",
     "text": [
      "INFO:tensorflow:Restoring parameters from ./network/Net_3100_epoch15/net\n"
     ]
    }
   ],
   "source": [
    "sess = tf.Session(config=config)\n",
    "sess.run(tf.global_variables_initializer())\n",
    "\n",
    "saver = tf.train.import_meta_graph('./network/Net_3100_epoch15/net.meta')\n",
    "saver.restore(sess, './network/Net_3100_epoch15/net')\n",
    "\n",
    "X = sess.graph.get_tensor_by_name('input:0')\n",
    "Y = sess.graph.get_tensor_by_name('label:0')\n",
    "keep_prob = sess.graph.get_tensor_by_name('drop:0')\n",
    "\n",
    "W1 = sess.graph.get_tensor_by_name('weight1:0')\n",
    "L1 = tf.nn.conv2d(X, W1, strides=[1, 1, 1, 1], padding = 'SAME')\n",
    "L1 = tf.nn.relu(L1)\n",
    "L1 = tf.nn.max_pool(L1, ksize = [1, 2, 2, 1], strides=[1, 2, 2, 1],padding = 'SAME') \n",
    "\n",
    "W2 = sess.graph.get_tensor_by_name('weight2:0')\n",
    "L2 = tf.nn.conv2d(L1, W2, strides=[1, 1, 1, 1], padding='SAME')\n",
    "L2 = tf.nn.relu(L2)\n",
    "L2 = tf.nn.max_pool(L2, ksize = [1, 2, 2, 1], strides = [1, 2, 2, 1],padding='SAME')\n",
    "\n",
    "W3 = sess.graph.get_tensor_by_name('weight3:0')\n",
    "L3 = tf.nn.conv2d(L2, W3, strides=[1, 1, 1, 1], padding='SAME')\n",
    "L3 = tf.nn.relu(L3)\n",
    "L3 = tf.nn.max_pool(L3, ksize = [1, 2, 2, 1], strides = [1, 2, 2, 1],padding='SAME')\n",
    "\n",
    "W4 = sess.graph.get_tensor_by_name('weight4:0')\n",
    "L4 = tf.reshape(L3, [-1, 8 * 4 * 64])\n",
    "L4 = tf.matmul(L4, W4)\n",
    "L4 = tf.nn.relu(L4)\n",
    "L4 = tf.nn.dropout(L4, keep_prob)\n",
    "\n",
    "W5 = sess.graph.get_tensor_by_name('weight5:0')\n",
    "\n",
    "model = sess.graph.get_tensor_by_name('model:0')\n",
    "\n",
    "is_correct = tf.equal(tf.argmax(model, 1), tf.argmax(Y, 1))\n",
    "accuracy = tf.reduce_mean(tf.cast(is_correct, tf.float32))"
   ]
  },
  {
   "cell_type": "code",
   "execution_count": 3,
   "metadata": {},
   "outputs": [
    {
     "name": "stdout",
     "output_type": "stream",
     "text": [
      "(15500, 64, 32, 1, 14)\n",
      "(15500, 28)\n"
     ]
    }
   ],
   "source": [
    "test_set = hdf5storage.loadmat('./CNN_test_500_time64.mat')\n",
    "XTest, YTest = test_set['XTest'], test_set['YTest']\n",
    "XTest = np.transpose(XTest, [3,0,1,2,4])\n",
    "print(XTest.shape)\n",
    "print(YTest.shape)"
   ]
  },
  {
   "cell_type": "code",
   "execution_count": 4,
   "metadata": {},
   "outputs": [
    {
     "name": "stdout",
     "output_type": "stream",
     "text": [
      "SNR: -20 dB  정확도: 0.511032\n",
      "SNR: -18 dB  정확도: 0.510839\n",
      "SNR: -16 dB  정확도: 0.532645\n",
      "SNR: -14 dB  정확도: 0.541548\n",
      "SNR: -12 dB  정확도: 0.576839\n",
      "SNR: -10 dB  정확도: 0.664194\n",
      "SNR: -8 dB  정확도: 0.765419\n",
      "SNR: -6 dB  정확도: 0.900065\n",
      "SNR: -4 dB  정확도: 0.961871\n",
      "SNR: -2 dB  정확도: 0.963032\n",
      "SNR: 0 dB  정확도: 0.967806\n",
      "SNR: 2 dB  정확도: 0.961097\n",
      "SNR: 4 dB  정확도: 0.963871\n",
      "SNR: 6 dB  정확도: 0.971161\n"
     ]
    }
   ],
   "source": [
    "YTest_SNR = np.zeros([len(YTest),2],dtype='f')\n",
    "\n",
    "SNR_table = list(range(-20, 7, 2))\n",
    "fdr_list,mdr_list,acc_list=[],[],[]\n",
    "\n",
    "for SNR_loop in range(len(SNR_table)):\n",
    "    XTest_SNR = XTest[:,:,:,:,SNR_loop]\n",
    "    YTest_SNR[:,1] = YTest[:,SNR_loop]\n",
    "    YTest_SNR[:,0] = YTest[:,SNR_loop+14]\n",
    "    Pred, acc = sess.run([model, accuracy], \n",
    "                         feed_dict={ X: XTest_SNR, Y: YTest_SNR, keep_prob: 1.0})\n",
    "    \n",
    "    fdr,mdr = 0,0\n",
    "    busy_cnt,idle_cnt = 0,0\n",
    "    \n",
    "    for n in range(len(Pred)):\n",
    "        if (np.argmax(YTest_SNR,1)[n] == 1):\n",
    "            if np.argmax(Pred,1)[n] != np.argmax(YTest_SNR,1)[n]:\n",
    "                fdr=fdr+1\n",
    "            busy_cnt=busy_cnt+1\n",
    "        else:\n",
    "            if np.argmax(Pred,1)[n] != np.argmax(YTest_SNR,1)[n]:\n",
    "                mdr=mdr+1\n",
    "            idle_cnt=idle_cnt+1\n",
    "    fdr_list.append(fdr/busy_cnt)\n",
    "    mdr_list.append(mdr/idle_cnt)\n",
    "    acc_list.append(acc)\n",
    "    \n",
    "    print('SNR:', '%d dB' % SNR_table[SNR_loop],' 정확도: %4f' % acc)"
   ]
  },
  {
   "cell_type": "markdown",
   "metadata": {},
   "source": [
    "# Plot"
   ]
  },
  {
   "cell_type": "markdown",
   "metadata": {},
   "source": [
    "### FDR: False detection ratio\n",
    "### MDR: Miss detection ratio\n",
    "### ACC"
   ]
  },
  {
   "cell_type": "code",
   "execution_count": 20,
   "metadata": {},
   "outputs": [
    {
     "data": {
      "image/png": "[encoded data removed]",
      "text/plain": [
       "<Figure size 432x288 with 1 Axes>"
      ]
     },
     "metadata": {
      "needs_background": "light"
     },
     "output_type": "display_data"
    }
   ],
   "source": [
    "plt.semilogy(SNR_table, fdr_list, '-bo')\n",
    "plt.xticks(SNR_table) \n",
    "plt.xlim(-20, 6)\n",
    "plt.ylim(0.0001, 0)\n",
    "plt.xlabel('SNR (dB)')\n",
    "plt.ylabel('Probability')\n",
    "plt.grid(color='gray',dashes=(2,2))\n",
    "plt.show()"
   ]
  },
  {
   "cell_type": "code",
   "execution_count": 21,
   "metadata": {},
   "outputs": [
    {
     "data": {
      "text/plain": [
       "[<matplotlib.lines.Line2D at 0x1f755d1d940>]"
      ]
     },
     "execution_count": 21,
     "metadata": {},
     "output_type": "execute_result"
    },
    {
     "data": {
      "image/png": "[encoded data removed]",
      "text/plain": [
       "<Figure size 432x288 with 1 Axes>"
      ]
     },
     "metadata": {
      "needs_background": "light"
     },
     "output_type": "display_data"
    }
   ],
   "source": [
    "plt.semilogy(SNR_table, mdr_list, '-bo')"
   ]
  },
  {
   "cell_type": "code",
   "execution_count": 22,
   "metadata": {},
   "outputs": [
    {
     "data": {
      "text/plain": [
       "[<matplotlib.lines.Line2D at 0x1f755c14438>]"
      ]
     },
     "execution_count": 22,
     "metadata": {},
     "output_type": "execute_result"
    },
    {
     "data": {
      "image/png": "[encoded data removed]",
      "text/plain": [
       "<Figure size 432x288 with 1 Axes>"
      ]
     },
     "metadata": {
      "needs_background": "light"
     },
     "output_type": "display_data"
    }
   ],
   "source": [
    "plt.semilogy(SNR_table, acc_list, '-bo')"
   ]
  }
 ],
 "metadata": {
  "kernelspec": {
   "display_name": "Python 3",
   "language": "python",
   "name": "python3"
  },
  "language_info": {
   "codemirror_mode": {
    "name": "ipython",
    "version": 3
   },
   "file_extension": ".py",
   "mimetype": "text/x-python",
   "name": "python",
   "nbconvert_exporter": "python",
   "pygments_lexer": "ipython3",
   "version": "3.6.5"
  }
 },
 "nbformat": 4,
 "nbformat_minor": 4
}
