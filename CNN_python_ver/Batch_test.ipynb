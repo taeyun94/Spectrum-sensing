{
 "cells": [
  {
   "cell_type": "code",
   "execution_count": 1,
   "metadata": {},
   "outputs": [
    {
     "name": "stdout",
     "output_type": "stream",
     "text": [
      "(620000, 64, 32, 1)\n",
      "(620000, 2)\n"
     ]
    }
   ],
   "source": [
    "import tensorflow as tf\n",
    "import numpy as np\n",
    "import mat73\n",
    "\n",
    "config = tf.ConfigProto()\n",
    "config.gpu_options.allow_growth = True\n",
    "\n",
    "test_file = mat73.loadmat('./Training_set_620000_4D.mat')\n",
    "x_train, y_train = test_file['XTrain'].T,test_file['YTrain'].T\n",
    "x_train = np.transpose(x_train,[3,0,1,2])\n",
    "print(x_train.shape)\n",
    "print(y_train.shape)"
   ]
  },
  {
   "cell_type": "code",
   "execution_count": 2,
   "metadata": {},
   "outputs": [],
   "source": [
    "learning_rate = 0.003\n",
    "total_epoch = 5\n",
    "batch_size = 31*20\n",
    "total_batch = int(len(y_train)/batch_size)\n",
    "\n",
    "filter_size1 = 8\n",
    "filter_size2 = 16\n",
    "filter_size3 = 32"
   ]
  },
  {
   "cell_type": "code",
   "execution_count": 3,
   "metadata": {},
   "outputs": [],
   "source": [
    "X = tf.placeholder(tf.float32, [None, 64, 32, 1], name='input')\n",
    "Y = tf.placeholder(tf.float32, [None, 2], name='label')\n",
    "batch_prob = tf.placeholder(tf.bool, name='batch_prob')\n",
    "\n",
    "W1 = tf.Variable(tf.random_normal([3, 3, 1, filter_size1], stddev=0.01), name='weight1')\n",
    "#b1 = tf.Variable(tf.random_normal([filter_size1], name='bias1'))\n",
    "L1 = tf.nn.conv2d(X, W1, strides=[1, 1, 1, 1], padding='SAME') \n",
    "L1 = tf.nn.relu(tf.layers.batch_normalization(L1, training=batch_prob, momentum=0.9))\n",
    "L1 = tf.nn.max_pool(L1, ksize=[1, 2, 2, 1], strides=[1, 2, 2, 1], padding='SAME')\n",
    "\n",
    "W2 = tf.Variable(tf.random_normal([3, 3, filter_size1, filter_size2], stddev=0.01), name='weight2')\n",
    "#b2 = tf.Variable(tf.random_normal([filter_size2], name='bias2'))             \n",
    "L2 = tf.nn.conv2d(L1, W2, strides=[1, 1, 1, 1], padding='SAME') \n",
    "L2 = tf.nn.relu(tf.layers.batch_normalization(L2, training=batch_prob, momentum=0.9))\n",
    "L2 = tf.nn.max_pool(L2, ksize=[1, 2, 2, 1], strides=[1, 2, 2, 1], padding='SAME')\n",
    "\n",
    "W3 = tf.Variable(tf.random_normal([3, 3, filter_size2, filter_size3], stddev=0.01), name='weight3')\n",
    "#b3 = tf.Variable(tf.random_normal([filter_size3], name='bias3'))\n",
    "L3 = tf.nn.conv2d(L2, W3, strides=[1, 1, 1, 1], padding='SAME') \n",
    "L3 = tf.nn.relu(tf.layers.batch_normalization(L3, training=batch_prob, momentum=0.9))\n",
    "\n",
    "W4 = tf.Variable(tf.random_normal([16 * 8 * filter_size3, 2], stddev=0.01), name='weight4')\n",
    "#b4 = tf.Variable(tf.random_normal([num_class], name='bias4'))\n",
    "L4 = tf.reshape(L3, [-1, 16 * 8 * filter_size3])\n",
    "model= tf.matmul(L4, W4) \n",
    "model = tf.identity(model, name='model')\n",
    "\n",
    "cost = tf.reduce_mean(tf.nn.softmax_cross_entropy_with_logits_v2(logits=model, labels=Y))\n",
    "\n",
    "update_ops = tf.get_collection(tf.GraphKeys.UPDATE_OPS)\n",
    "with tf.control_dependencies(update_ops):\n",
    "    optimizer = tf.train.AdamOptimizer(learning_rate).minimize(cost)\n",
    "\n",
    "correct_prediction = tf.equal(tf.argmax(model,1), tf.argmax(Y,1))\n",
    "accuracy = tf.reduce_mean(tf.cast(correct_prediction, tf.float32))\n",
    "\n",
    "sess = tf.Session(config=config)\n",
    "sess.run(tf.global_variables_initializer())"
   ]
  },
  {
   "cell_type": "code",
   "execution_count": 4,
   "metadata": {},
   "outputs": [
    {
     "name": "stdout",
     "output_type": "stream",
     "text": [
      "Epoch: 0001 Avg. loss = 0.09158\n",
      "Epoch: 0002 Avg. loss = 0.08648\n",
      "Epoch: 0003 Avg. loss = 0.08595\n",
      "Epoch: 0004 Avg. loss = 0.08494\n",
      "Epoch: 0005 Avg. loss = 0.08458\n"
     ]
    }
   ],
   "source": [
    "for epoch in range(total_epoch):\n",
    "    total_cost = 0\n",
    "    shuffle_idx=np.random.permutation(len(y_train))\n",
    "    x_train_data=x_train[shuffle_idx]\n",
    "    y_train_data=y_train[shuffle_idx]\n",
    "    \n",
    "    for i in range(total_batch):\n",
    "        batch_x = x_train_data[i*batch_size:(i+1)*batch_size,:,:,:]\n",
    "        batch_y = y_train_data[i*batch_size:(i+1)*batch_size,:]\n",
    "        \n",
    "        cost_val, _ = sess.run([cost, optimizer], \n",
    "                               feed_dict = {X: batch_x, Y:batch_y, batch_prob:True})\n",
    "        total_cost += cost_val\n",
    "        \n",
    "    print('Epoch:', '%04d' % (epoch+1), \n",
    "         'Avg. loss =', '{:.5f}'.format(total_cost / total_batch))"
   ]
  },
  {
   "cell_type": "markdown",
   "metadata": {},
   "source": [
    "## Test"
   ]
  },
  {
   "cell_type": "code",
   "execution_count": 5,
   "metadata": {},
   "outputs": [
    {
     "name": "stdout",
     "output_type": "stream",
     "text": [
      "SNR: -20  정확도: 0.570000\n",
      "SNR: -18  정확도: 0.500000\n",
      "SNR: -16  정확도: 0.556000\n",
      "SNR: -14  정확도: 0.668000\n",
      "SNR: -12  정확도: 0.738000\n",
      "SNR: -10  정확도: 0.896000\n",
      "SNR: -8  정확도: 0.976000\n",
      "SNR: -6  정확도: 0.992000\n",
      "SNR: -4  정확도: 1.000000\n",
      "SNR: -2  정확도: 1.000000\n",
      "SNR: 0  정확도: 1.000000\n",
      "SNR: 2  정확도: 1.000000\n",
      "SNR: 4  정확도: 1.000000\n",
      "SNR: 6  정확도: 1.000000\n",
      "SNR: 8  정확도: 1.000000\n",
      "SNR: 10  정확도: 1.000000\n"
     ]
    }
   ],
   "source": [
    "SNR_table = list(range(-20, 10+1, 2))\n",
    "fdr_list,mdr_list = [1]*len(SNR_table), [1]*len(SNR_table)\n",
    "acc_list = []\n",
    "\n",
    "for SNR_loop in range(len(SNR_table)):\n",
    "    test_name = './Test_set_108500_snr%d_4D.mat' % SNR_table[SNR_loop]\n",
    "    test_file = mat73.loadmat(test_name)\n",
    "    x_test, y_test = test_file['XTest'].T, test_file['YTest'].T\n",
    "    x_test = np.transpose(x_test,[3,0,1,2])\n",
    "    test_batch_size = 500\n",
    "    total_batch = int(len(y_test) / test_batch_size)\n",
    "    \n",
    "    busy_cnt, idle_cnt = 0,0\n",
    "    acc_cnt = 0\n",
    "    \n",
    "    for i in range(total_batch):\n",
    "        batch_x = x_test[i*test_batch_size:(i+1)*test_batch_size,:,:,:]\n",
    "        batch_y = y_test[i*test_batch_size:(i+1)*test_batch_size,:]\n",
    "        pred,acc = sess.run([model,accuracy], \n",
    "                         feed_dict={X:batch_x, Y:batch_y, batch_prob:False})\n",
    "        acc_cnt = acc_cnt + acc\n",
    "        for n in range(len(pred)):\n",
    "            if (np.argmax(batch_y,1)[n] == 1):\n",
    "                if (np.argmax(pred,1)[n] == 0):\n",
    "                    fdr_list[SNR_loop] = fdr_list[SNR_loop] + 1\n",
    "                busy_cnt = busy_cnt + 1\n",
    "            else:\n",
    "                if (np.argmax(pred,1)[n] == 1):\n",
    "                    mdr_list[SNR_loop] = mdr_list[SNR_loop] + 1\n",
    "                idle_cnt = idle_cnt + 1\n",
    "                \n",
    "    fdr_list[SNR_loop] = fdr_list[SNR_loop] / busy_cnt        \n",
    "    mdr_list[SNR_loop] = mdr_list[SNR_loop] / idle_cnt\n",
    "    acc_list.append(acc_cnt/total_batch)    \n",
    "    \n",
    "    print('SNR:', '%d' % SNR_table[SNR_loop],' 정확도: %4f' % acc)"
   ]
  },
  {
   "cell_type": "code",
   "execution_count": 8,
   "metadata": {},
   "outputs": [
    {
     "data": {
      "image/png": "[encoded data removed]",
      "text/plain": [
       "<Figure size 432x288 with 1 Axes>"
      ]
     },
     "metadata": {
      "needs_background": "light"
     },
     "output_type": "display_data"
    }
   ],
   "source": [
    "from matplotlib import pyplot as plt\n",
    "\n",
    "plt.semilogy(SNR_table, fdr_list, '-bo', label='False detection ratio')\n",
    "plt.semilogy(SNR_table, mdr_list, '-ro', label='Miss detection ratio')\n",
    "plt.xticks(SNR_table) \n",
    "plt.xlim(-20, 6)\n",
    "plt.ylim(0.0001, 1)\n",
    "plt.xlabel('SNR (dB)')\n",
    "plt.ylabel('Probability')\n",
    "plt.legend()\n",
    "plt.grid(color='gray',dashes=(2,2))\n",
    "plt.show()"
   ]
  },
  {
   "cell_type": "code",
   "execution_count": 9,
   "metadata": {},
   "outputs": [
    {
     "data": {
      "image/png": "[encoded data removed]",
      "text/plain": [
       "<Figure size 432x288 with 1 Axes>"
      ]
     },
     "metadata": {
      "needs_background": "light"
     },
     "output_type": "display_data"
    }
   ],
   "source": [
    "from matplotlib import pyplot as plt\n",
    "\n",
    "plt.plot(SNR_table, acc_list, '-bo')\n",
    "plt.xticks(SNR_table) \n",
    "plt.xlim(-20, 6)\n",
    "plt.ylim(0.5, 1)\n",
    "plt.xlabel('SNR (dB)')\n",
    "plt.ylabel('Probability')\n",
    "plt.grid(color='gray',dashes=(2,2))\n",
    "plt.show()"
   ]
  },
  {
   "cell_type": "code",
   "execution_count": null,
   "metadata": {},
   "outputs": [],
   "source": []
  }
 ],
 "metadata": {
  "kernelspec": {
   "display_name": "Python 3",
   "language": "python",
   "name": "python3"
  },
  "language_info": {
   "codemirror_mode": {
    "name": "ipython",
    "version": 3
   },
   "file_extension": ".py",
   "mimetype": "text/x-python",
   "name": "python",
   "nbconvert_exporter": "python",
   "pygments_lexer": "ipython3",
   "version": "3.6.5"
  }
 },
 "nbformat": 4,
 "nbformat_minor": 2
}
